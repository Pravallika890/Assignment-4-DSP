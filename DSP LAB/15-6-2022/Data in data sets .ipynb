{
 "cells": [
  {
   "cell_type": "code",
   "execution_count": 1,
   "id": "ffdd508f",
   "metadata": {},
   "outputs": [
    {
     "data": {
      "text/plain": [
       "3"
      ]
     },
     "execution_count": 1,
     "metadata": {},
     "output_type": "execute_result"
    }
   ],
   "source": [
    "import statistics\n",
    "statistics.mean([1,3,5,4,2])"
   ]
  },
  {
   "cell_type": "code",
   "execution_count": 2,
   "id": "a6cfde4f",
   "metadata": {},
   "outputs": [
    {
     "data": {
      "text/plain": [
       "3"
      ]
     },
     "execution_count": 2,
     "metadata": {},
     "output_type": "execute_result"
    }
   ],
   "source": [
    "statistics.median([1,3,5,4,2])"
   ]
  },
  {
   "cell_type": "code",
   "execution_count": 4,
   "id": "e41a1bfd",
   "metadata": {},
   "outputs": [
    {
     "data": {
      "text/plain": [
       "1"
      ]
     },
     "execution_count": 4,
     "metadata": {},
     "output_type": "execute_result"
    }
   ],
   "source": [
    "statistics.mode([1,3,5,4,2])"
   ]
  },
  {
   "cell_type": "code",
   "execution_count": 5,
   "id": "11c2fa78",
   "metadata": {},
   "outputs": [
    {
     "data": {
      "text/plain": [
       "2.5"
      ]
     },
     "execution_count": 5,
     "metadata": {},
     "output_type": "execute_result"
    }
   ],
   "source": [
    "statistics.variance([1,3,5,4,2])"
   ]
  },
  {
   "cell_type": "code",
   "execution_count": 7,
   "id": "bb2d0101",
   "metadata": {},
   "outputs": [
    {
     "data": {
      "text/plain": [
       "1.5811388300841898"
      ]
     },
     "execution_count": 7,
     "metadata": {},
     "output_type": "execute_result"
    }
   ],
   "source": [
    "statistics.stdev([1,3,5,4,2])"
   ]
  },
  {
   "cell_type": "code",
   "execution_count": 8,
   "id": "f81a977d",
   "metadata": {},
   "outputs": [
    {
     "data": {
      "text/plain": [
       "6.6"
      ]
     },
     "execution_count": 8,
     "metadata": {},
     "output_type": "execute_result"
    }
   ],
   "source": [
    "import statistics\n",
    "statistics.mean([1,3,5,4,20])"
   ]
  },
  {
   "cell_type": "code",
   "execution_count": 9,
   "id": "3f82996f",
   "metadata": {},
   "outputs": [
    {
     "data": {
      "text/plain": [
       "4"
      ]
     },
     "execution_count": 9,
     "metadata": {},
     "output_type": "execute_result"
    }
   ],
   "source": [
    "statistics.median([1,3,5,4,20])"
   ]
  },
  {
   "cell_type": "code",
   "execution_count": 10,
   "id": "ca8b0516",
   "metadata": {},
   "outputs": [
    {
     "data": {
      "text/plain": [
       "1"
      ]
     },
     "execution_count": 10,
     "metadata": {},
     "output_type": "execute_result"
    }
   ],
   "source": [
    "statistics.mode([1,3,5,4,20])"
   ]
  },
  {
   "cell_type": "code",
   "execution_count": 11,
   "id": "d6c86017",
   "metadata": {},
   "outputs": [
    {
     "data": {
      "text/plain": [
       "58.3"
      ]
     },
     "execution_count": 11,
     "metadata": {},
     "output_type": "execute_result"
    }
   ],
   "source": [
    "statistics.variance([1,3,5,4,20])"
   ]
  },
  {
   "cell_type": "code",
   "execution_count": 12,
   "id": "7a4ed70d",
   "metadata": {},
   "outputs": [
    {
     "data": {
      "text/plain": [
       "1.5811388300841898"
      ]
     },
     "execution_count": 12,
     "metadata": {},
     "output_type": "execute_result"
    }
   ],
   "source": [
    "statistics.stdev([1,3,5,4,2])"
   ]
  },
  {
   "cell_type": "code",
   "execution_count": 13,
   "id": "d6d181eb",
   "metadata": {},
   "outputs": [
    {
     "data": {
      "text/plain": [
       "12.46"
      ]
     },
     "execution_count": 13,
     "metadata": {},
     "output_type": "execute_result"
    }
   ],
   "source": [
    "\n",
    "\n",
    "\n",
    "\n",
    "import statistics\n",
    "statistics.mean([10.5,12.2,32.1,3,4.5])"
   ]
  },
  {
   "cell_type": "code",
   "execution_count": 14,
   "id": "36852eab",
   "metadata": {},
   "outputs": [
    {
     "data": {
      "text/plain": [
       "10.5"
      ]
     },
     "execution_count": 14,
     "metadata": {},
     "output_type": "execute_result"
    }
   ],
   "source": [
    "import statistics\n",
    "statistics.median([10.5,12.2,32.1,3,4.5])"
   ]
  },
  {
   "cell_type": "code",
   "execution_count": 15,
   "id": "f4531ea4",
   "metadata": {},
   "outputs": [
    {
     "data": {
      "text/plain": [
       "10.5"
      ]
     },
     "execution_count": 15,
     "metadata": {},
     "output_type": "execute_result"
    }
   ],
   "source": [
    "import statistics\n",
    "statistics.mode([10.5,12.2,32.1,3,4.5])"
   ]
  },
  {
   "cell_type": "code",
   "execution_count": 16,
   "id": "2d99a005",
   "metadata": {},
   "outputs": [
    {
     "data": {
      "text/plain": [
       "11.645728830777403"
      ]
     },
     "execution_count": 16,
     "metadata": {},
     "output_type": "execute_result"
    }
   ],
   "source": [
    "statistics.stdev([10.5,12.2,32.1,3,4.5])"
   ]
  },
  {
   "cell_type": "code",
   "execution_count": 17,
   "id": "8c5add1e",
   "metadata": {},
   "outputs": [
    {
     "data": {
      "text/plain": [
       "12.2"
      ]
     },
     "execution_count": 17,
     "metadata": {},
     "output_type": "execute_result"
    }
   ],
   "source": [
    "import statistics\n",
    "statistics.mode([10.5,12.2,32.1,12.2,4.5])"
   ]
  },
  {
   "cell_type": "code",
   "execution_count": null,
   "id": "9e592712",
   "metadata": {},
   "outputs": [],
   "source": []
  }
 ],
 "metadata": {
  "kernelspec": {
   "display_name": "Python 3 (ipykernel)",
   "language": "python",
   "name": "python3"
  },
  "language_info": {
   "codemirror_mode": {
    "name": "ipython",
    "version": 3
   },
   "file_extension": ".py",
   "mimetype": "text/x-python",
   "name": "python",
   "nbconvert_exporter": "python",
   "pygments_lexer": "ipython3",
   "version": "3.9.12"
  }
 },
 "nbformat": 4,
 "nbformat_minor": 5
}
