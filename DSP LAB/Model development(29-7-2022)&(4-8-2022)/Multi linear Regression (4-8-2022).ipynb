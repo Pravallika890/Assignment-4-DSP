{
 "cells": [
  {
   "cell_type": "code",
   "execution_count": 1,
   "id": "45d26e45",
   "metadata": {
    "scrolled": true
   },
   "outputs": [
    {
     "name": "stdout",
     "output_type": "stream",
     "text": [
      "coefficient of determination:0.8615939258756776\n"
     ]
    }
   ],
   "source": [
    "import numpy as np\n",
    "from sklearn.linear_model import LinearRegression\n",
    "x=[[0,1],[5,1],[15,2],[25,5],[35,11],[45,15],[55,34],[60,35]]\n",
    "y=[4,5,20,14,32,22,38,43]\n",
    "x,y=np.array(x),np.array(y)\n",
    "model=LinearRegression().fit(x,y)\n",
    "r_sq=model.score(x,y)\n",
    "print(f\"coefficient of determination:{r_sq}\")"
   ]
  },
  {
   "cell_type": "code",
   "execution_count": 2,
   "id": "124c14d0",
   "metadata": {},
   "outputs": [
    {
     "name": "stdout",
     "output_type": "stream",
     "text": [
      "intercept:5.522579275198183\n"
     ]
    }
   ],
   "source": [
    "print(f\"intercept:{model.intercept_}\")"
   ]
  },
  {
   "cell_type": "code",
   "execution_count": 3,
   "id": "c6acc09e",
   "metadata": {},
   "outputs": [
    {
     "name": "stdout",
     "output_type": "stream",
     "text": [
      "coefficient:[0.44706965 0.25502548]\n"
     ]
    }
   ],
   "source": [
    "print(f\"coefficient:{model.coef_}\")"
   ]
  },
  {
   "cell_type": "code",
   "execution_count": 4,
   "id": "16a39c13",
   "metadata": {},
   "outputs": [
    {
     "name": "stdout",
     "output_type": "stream",
     "text": [
      "predected resopnse:\n",
      "[ 5.77760476  8.012953   12.73867497 17.9744479  23.97529728 29.4660957\n",
      " 38.78227633 41.27265006]\n"
     ]
    }
   ],
   "source": [
    "y_pred=model.predict(x)\n",
    "print(f\"predected resopnse:\\n{y_pred}\")"
   ]
  },
  {
   "cell_type": "code",
   "execution_count": 5,
   "id": "52399306",
   "metadata": {},
   "outputs": [
    {
     "name": "stdout",
     "output_type": "stream",
     "text": [
      "predicted response:\n",
      "[ 5.77760476  8.012953   12.73867497 17.9744479  23.97529728 29.4660957\n",
      " 38.78227633 41.27265006]\n"
     ]
    }
   ],
   "source": [
    "y_pred=model.intercept_+np.sum(model.coef_*x,axis=1)\n",
    "print(f\"predicted response:\\n{y_pred}\")"
   ]
  },
  {
   "cell_type": "code",
   "execution_count": 9,
   "id": "a492fdc0",
   "metadata": {},
   "outputs": [
    {
     "name": "stdout",
     "output_type": "stream",
     "text": [
      "[[0 1]\n",
      " [2 3]\n",
      " [4 5]\n",
      " [6 7]\n",
      " [8 9]]\n",
      "[ 5.77760476  7.18179502  8.58598528  9.99017554 11.3943658 ]\n"
     ]
    }
   ],
   "source": [
    "y_new=np.arange(10).reshape((-1,2))\n",
    "print(y_new)\n",
    "y_new=model.predict(y_new)\n",
    "print(y_new)"
   ]
  },
  {
   "cell_type": "code",
   "execution_count": null,
   "id": "9423ac96",
   "metadata": {},
   "outputs": [],
   "source": []
  }
 ],
 "metadata": {
  "kernelspec": {
   "display_name": "Python 3 (ipykernel)",
   "language": "python",
   "name": "python3"
  },
  "language_info": {
   "codemirror_mode": {
    "name": "ipython",
    "version": 3
   },
   "file_extension": ".py",
   "mimetype": "text/x-python",
   "name": "python",
   "nbconvert_exporter": "python",
   "pygments_lexer": "ipython3",
   "version": "3.9.12"
  }
 },
 "nbformat": 4,
 "nbformat_minor": 5
}
