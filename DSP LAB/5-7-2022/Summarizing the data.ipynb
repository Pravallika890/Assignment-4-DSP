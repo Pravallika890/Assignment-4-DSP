{
 "cells": [
  {
   "cell_type": "code",
   "execution_count": 4,
   "id": "1920bec9",
   "metadata": {},
   "outputs": [
    {
     "name": "stdout",
     "output_type": "stream",
     "text": [
      "7.333333333333333\n"
     ]
    }
   ],
   "source": [
    "import numpy as np\n",
    "arr=[5,6,11]\n",
    "mean=np.mean(arr)\n",
    "print(mean)"
   ]
  },
  {
   "cell_type": "code",
   "execution_count": 8,
   "id": "5984c08c",
   "metadata": {},
   "outputs": [
    {
     "name": "stdout",
     "output_type": "stream",
     "text": [
      "ModeResult(mode=array([3]), count=array([2]))\n"
     ]
    }
   ],
   "source": [
    "from scipy import stats\n",
    "arr=[1,2,3,3]\n",
    "mode=stats.mode(arr)\n",
    "print(mode)"
   ]
  },
  {
   "cell_type": "code",
   "execution_count": 10,
   "id": "6600f70d",
   "metadata": {},
   "outputs": [
    {
     "name": "stdout",
     "output_type": "stream",
     "text": [
      "2.5\n"
     ]
    }
   ],
   "source": [
    "ar=[1,2,3,4]\n",
    "median=np.median(ar)\n",
    "print(median)"
   ]
  },
  {
   "cell_type": "code",
   "execution_count": 11,
   "id": "4366c939",
   "metadata": {},
   "outputs": [
    {
     "name": "stdout",
     "output_type": "stream",
     "text": [
      "maximun=5,minimum=1 and Range=4\n"
     ]
    }
   ],
   "source": [
    "import numpy as np\n",
    "arr=[1,2,3,4,5]\n",
    "maximum=max(arr)\n",
    "minimum=min(arr)\n",
    "Range=maximum-minimum\n",
    "print(\"maximun={},minimum={} and Range={}\".format(maximum,minimum,Range))"
   ]
  },
  {
   "cell_type": "code",
   "execution_count": 14,
   "id": "11cfd177",
   "metadata": {},
   "outputs": [
    {
     "name": "stdout",
     "output_type": "stream",
     "text": [
      "var= 2.5\n",
      "std= 1.5811388300841898\n"
     ]
    }
   ],
   "source": [
    "import statistics\n",
    "arr=[1,2,3,4,5]\n",
    "print(\"var=\",(statistics.variance(arr)))\n",
    "print(\"std=\",(statistics.stdev(arr)))"
   ]
  },
  {
   "cell_type": "code",
   "execution_count": null,
   "id": "58dc01ec",
   "metadata": {},
   "outputs": [],
   "source": []
  }
 ],
 "metadata": {
  "kernelspec": {
   "display_name": "Python 3 (ipykernel)",
   "language": "python",
   "name": "python3"
  },
  "language_info": {
   "codemirror_mode": {
    "name": "ipython",
    "version": 3
   },
   "file_extension": ".py",
   "mimetype": "text/x-python",
   "name": "python",
   "nbconvert_exporter": "python",
   "pygments_lexer": "ipython3",
   "version": "3.9.12"
  }
 },
 "nbformat": 4,
 "nbformat_minor": 5
}
